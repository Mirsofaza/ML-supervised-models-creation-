{
  "cells": [
    {
      "cell_type": "code",
      "execution_count": 4,
      "id": "6e8073be",
      "metadata": {
        "id": "6e8073be",
        "colab": {
          "base_uri": "https://localhost:8080/"
        },
        "outputId": "1b88ed85-27ae-4c0e-c7f4-37c199097ba3"
      },
      "outputs": [
        {
          "output_type": "stream",
          "name": "stdout",
          "text": [
            "[0 0 0 0 1 1 0 0 1 1 0 0 0 1 0 0 0 0 1 0 0 1 0 0 1 0 0 1 0 0 1 1 0 0 1 0 0\n",
            " 0 1 0 0 0 0 1 0 0 0 0 0 0]\n"
          ]
        }
      ],
      "source": [
        "import numpy as np\n",
        "# imports the stats module from the scipy library and renames it to stats for convenience in the code.\n",
        "import scipy.stats as stats\n",
        "\n",
        "# 100 COVID-19 tests with 20% positive\n",
        "# generate the test results as 2000 binary random numbers  (x = 1: test positive, x=0: test negative)\n",
        "N = 50\n",
        "positive_rate = 0.2\n",
        "states = np.arange (2) # Just [0 1]\n",
        "probs  = np.array ([1-positive_rate, positive_rate])\n",
        "berndist = stats.rv_discrete(name = 'berndist', values = (states,probs))   #generate Bernoulli distribution data\n",
        "x =  berndist.rvs (size = N)\n",
        "\n",
        "print(x)"
      ]
    },
    {
      "cell_type": "code",
      "execution_count": 5,
      "id": "61b5af06",
      "metadata": {
        "id": "61b5af06",
        "colab": {
          "base_uri": "https://localhost:8080/",
          "height": 245
        },
        "outputId": "96093b32-9b02-49d8-a137-e3e9753d6305"
      },
      "outputs": [
        {
          "output_type": "error",
          "ename": "ValueError",
          "evalue": "ignored",
          "traceback": [
            "\u001b[0;31m---------------------------------------------------------------------------\u001b[0m",
            "\u001b[0;31mValueError\u001b[0m                                Traceback (most recent call last)",
            "\u001b[0;32m<ipython-input-5-25204d0e8cae>\u001b[0m in \u001b[0;36m<cell line: 8>\u001b[0;34m()\u001b[0m\n\u001b[1;32m      6\u001b[0m \u001b[0;34m\u001b[0m\u001b[0m\n\u001b[1;32m      7\u001b[0m \u001b[0;31m# loglikelihood = the logarithm of Equation (2.4) of our lecture note\u001b[0m\u001b[0;34m\u001b[0m\u001b[0;34m\u001b[0m\u001b[0m\n\u001b[0;32m----> 8\u001b[0;31m \u001b[0mloglikelihood\u001b[0m \u001b[0;34m=\u001b[0m \u001b[0mX\u001b[0m\u001b[0;34m*\u001b[0m\u001b[0mnp\u001b[0m\u001b[0;34m.\u001b[0m\u001b[0mlog\u001b[0m \u001b[0;34m(\u001b[0m\u001b[0mmu_range\u001b[0m\u001b[0;34m)\u001b[0m \u001b[0;34m+\u001b[0m \u001b[0;34m(\u001b[0m\u001b[0;36m1\u001b[0m\u001b[0;34m-\u001b[0m\u001b[0mx\u001b[0m\u001b[0;34m)\u001b[0m \u001b[0;34m*\u001b[0m \u001b[0mnp\u001b[0m\u001b[0;34m.\u001b[0m\u001b[0mlog\u001b[0m\u001b[0;34m(\u001b[0m\u001b[0;36m1\u001b[0m\u001b[0;34m-\u001b[0m\u001b[0mmu_range\u001b[0m\u001b[0;34m)\u001b[0m \u001b[0;31m# perform element-wise multiplication\u001b[0m\u001b[0;34m\u001b[0m\u001b[0;34m\u001b[0m\u001b[0m\n\u001b[0m\u001b[1;32m      9\u001b[0m \u001b[0mloglikelihood\u001b[0m \u001b[0;34m=\u001b[0m  \u001b[0mnp\u001b[0m\u001b[0;34m.\u001b[0m\u001b[0msum\u001b[0m \u001b[0;34m(\u001b[0m\u001b[0mloglikelihood\u001b[0m\u001b[0;34m,\u001b[0m \u001b[0maxis\u001b[0m \u001b[0;34m=\u001b[0m \u001b[0;36m0\u001b[0m\u001b[0;34m)\u001b[0m \u001b[0;31m# summation over all 50 samples\u001b[0m\u001b[0;34m\u001b[0m\u001b[0;34m\u001b[0m\u001b[0m\n\u001b[1;32m     10\u001b[0m \u001b[0mlikelihood\u001b[0m    \u001b[0;34m=\u001b[0m \u001b[0mnp\u001b[0m\u001b[0;34m.\u001b[0m\u001b[0mexp\u001b[0m\u001b[0;34m(\u001b[0m\u001b[0mloglikelihood\u001b[0m\u001b[0;34m)\u001b[0m\u001b[0;34m\u001b[0m\u001b[0;34m\u001b[0m\u001b[0m\n",
            "\u001b[0;31mValueError\u001b[0m: operands could not be broadcast together with shapes (50,) (1000,) "
          ]
        }
      ],
      "source": [
        "# Want to estimate the positive_rate from the data\n",
        "# The maxmimum likelhood estimate purely depends on the data\n",
        "\n",
        "mu_range = np.linspace(0.001, 0.999,1000) # 1000 values between 0.001 and 0.999. These are candidate values for mu\n",
        "X = x.reshape(-1, 1); #converting array x into column, 50X1\n",
        "\n",
        "# loglikelihood = the logarithm of Equation (2.4) of our lecture note\n",
        "loglikelihood = X*np.log (mu_range) + (1-x) * np.log(1-mu_range) # perform element-wise multiplication\n",
        "loglikelihood =  np.sum (loglikelihood, axis = 0) # summation over all 50 samples\n",
        "likelihood    = np.exp(loglikelihood)\n",
        "\n",
        "import matplotlib.pyplot as plt\n",
        "plt.title('Likelihood', fontsize=20)\n",
        "plt.plot(mu_range, likelihood)\n",
        "plt.xlabel('positive rate')\n",
        "plt.ylabel('likelihood plot (likelihood vs. positive rate)')\n",
        "plt.grid(alpha=0.4, linestyle='--') #alpha sets the transparency of the gridlines\n",
        "\n",
        "# Question: Which positive rate gives the highest likelihood?\n",
        "# suppose p_range and likelihood are your arrays\n",
        "\n"
      ]
    },
    {
      "cell_type": "code",
      "source": [
        "# Let's check the most accurate answer:\n",
        "k = np.argmax(like)\n",
        "MLE_estimate =\n",
        "\n",
        "print(\"The p_range value that leads to maximum likelihood is: \", MLE_estimate)\n",
        "\n",
        "# We can also calculate the MLE using the formula (2.5)\n",
        "print(\"The theoretical MLE is: \", )"
      ],
      "metadata": {
        "id": "vADHqvvFXnzy"
      },
      "id": "vADHqvvFXnzy",
      "execution_count": null,
      "outputs": []
    },
    {
      "cell_type": "code",
      "execution_count": 6,
      "id": "2c476453",
      "metadata": {
        "scrolled": true,
        "id": "2c476453",
        "colab": {
          "base_uri": "https://localhost:8080/",
          "height": 245
        },
        "outputId": "12aca78f-7628-48c8-82fa-129d287e07bb"
      },
      "outputs": [
        {
          "output_type": "error",
          "ename": "NameError",
          "evalue": "ignored",
          "traceback": [
            "\u001b[0;31m---------------------------------------------------------------------------\u001b[0m",
            "\u001b[0;31mNameError\u001b[0m                                 Traceback (most recent call last)",
            "\u001b[0;32m<ipython-input-6-989ee899e266>\u001b[0m in \u001b[0;36m<cell line: 8>\u001b[0;34m()\u001b[0m\n\u001b[1;32m      6\u001b[0m \u001b[0mprior\u001b[0m \u001b[0;34m=\u001b[0m\u001b[0mstats\u001b[0m\u001b[0;34m.\u001b[0m\u001b[0mbeta\u001b[0m\u001b[0;34m.\u001b[0m\u001b[0mpdf\u001b[0m\u001b[0;34m(\u001b[0m\u001b[0mx\u001b[0m\u001b[0;34m=\u001b[0m\u001b[0mmu_range\u001b[0m\u001b[0;34m,\u001b[0m \u001b[0ma\u001b[0m \u001b[0;34m=\u001b[0m \u001b[0ma\u001b[0m\u001b[0;34m,\u001b[0m \u001b[0mb\u001b[0m \u001b[0;34m=\u001b[0m\u001b[0mb\u001b[0m\u001b[0;34m)\u001b[0m\u001b[0;34m\u001b[0m\u001b[0;34m\u001b[0m\u001b[0m\n\u001b[1;32m      7\u001b[0m \u001b[0;34m\u001b[0m\u001b[0m\n\u001b[0;32m----> 8\u001b[0;31m \u001b[0mplt\u001b[0m\u001b[0;34m.\u001b[0m\u001b[0mplot\u001b[0m\u001b[0;34m(\u001b[0m\u001b[0mmu_range\u001b[0m\u001b[0;34m,\u001b[0m \u001b[0mprior\u001b[0m\u001b[0;34m)\u001b[0m\u001b[0;34m\u001b[0m\u001b[0;34m\u001b[0m\u001b[0m\n\u001b[0m\u001b[1;32m      9\u001b[0m \u001b[0;31m# Add a title\u001b[0m\u001b[0;34m\u001b[0m\u001b[0;34m\u001b[0m\u001b[0m\n\u001b[1;32m     10\u001b[0m \u001b[0mplt\u001b[0m\u001b[0;34m.\u001b[0m\u001b[0mtitle\u001b[0m\u001b[0;34m(\u001b[0m\u001b[0;34m'Prior Probabiity'\u001b[0m\u001b[0;34m,\u001b[0m \u001b[0mfontsize\u001b[0m\u001b[0;34m=\u001b[0m\u001b[0;36m20\u001b[0m\u001b[0;34m)\u001b[0m\u001b[0;34m\u001b[0m\u001b[0;34m\u001b[0m\u001b[0m\n",
            "\u001b[0;31mNameError\u001b[0m: name 'plt' is not defined"
          ]
        }
      ],
      "source": [
        "\n",
        "# Bayesian Estimate uses some prior knowledge on the positive rate\n",
        "# For example, suppose that the historical positive rate of COVID-like tests followed a Beta Distribution with parameters a and b\n",
        "a = 21\n",
        "b = 81\n",
        "\n",
        "prior =stats.beta.pdf(x=mu_range, a = a, b =b)\n",
        "\n",
        "plt.plot(mu_range, prior)\n",
        "# Add a title\n",
        "plt.title('Prior Probabiity', fontsize=20)\n",
        "# Add X and y Label\n",
        "plt.xlabel('positive rate', fontsize=16)\n",
        "plt.ylabel('density', fontsize=16)\n",
        "# Add a grid\n",
        "plt.grid(alpha=.4, linestyle='--')\n",
        "# Show the plot\n",
        "plt.show()\n"
      ]
    },
    {
      "cell_type": "code",
      "execution_count": null,
      "id": "0908ff98",
      "metadata": {
        "id": "0908ff98"
      },
      "outputs": [],
      "source": [
        "# Posterior Probability-  Maximum A Priori (MAP)\n",
        "posterior_prob = prior * likelihood\n",
        "plt.plot(mu_range, posterior_prob)\n",
        "# Add a title\n",
        "plt.title('Posterior Probabiity', fontsize=20)\n",
        "# Add X and y Label\n",
        "plt.xlabel('positive rate', fontsize=16)\n",
        "plt.ylabel('posterior density', fontsize=16)\n",
        "# Add a grid\n",
        "plt.grid(alpha=.4, linestyle='--')\n",
        "# Show the plot\n",
        "plt.show()\n",
        "\n",
        "# Question: Which positive rate gives the highest likelihood?\n",
        "\n"
      ]
    },
    {
      "cell_type": "code",
      "source": [
        "\n",
        "#Let's check the theoretical value from lecture slide Equation below (2.7)\n",
        "posterior_prob_theory = stats.beta.pdf (x=mu_range, a=a+sum(x), b= b+N - sum (x)) # do not mess x and X, they are not similiar\n",
        "plt.plot(mu_range, prior)\n",
        "plt.title('Theoretical Posterior Probabiity', fontsize=20)\n",
        "plt.grid(alpha=.4, linestyle='--')\n",
        "plt.show()\n",
        "# the two plots should be very close!"
      ],
      "metadata": {
        "id": "ifsmoZqTXtrx"
      },
      "id": "ifsmoZqTXtrx",
      "execution_count": null,
      "outputs": []
    },
    {
      "cell_type": "code",
      "execution_count": null,
      "id": "0645c4b1",
      "metadata": {
        "id": "0645c4b1"
      },
      "outputs": [],
      "source": [
        "# Questions:\n",
        "# please compare the results for MLE, MAP and true value for mu\n",
        "\n",
        "# Find the best mu according to MAP method\n",
        "k =\n",
        "MAP_estimate =\n",
        "\n",
        "print('MLE of Positive Rate= '+\"{:10.4f}\".format(\n",
        "print('MAP of Positive Rate = '+\"{:10.4f}\".format(\n",
        "print('True Positive Rate = '+\"{:10.4f}\".format(\n"
      ]
    }
  ],
  "metadata": {
    "kernelspec": {
      "display_name": "Python 3 (ipykernel)",
      "language": "python",
      "name": "python3"
    },
    "language_info": {
      "codemirror_mode": {
        "name": "ipython",
        "version": 3
      },
      "file_extension": ".py",
      "mimetype": "text/x-python",
      "name": "python",
      "nbconvert_exporter": "python",
      "pygments_lexer": "ipython3",
      "version": "3.9.12"
    },
    "colab": {
      "provenance": []
    }
  },
  "nbformat": 4,
  "nbformat_minor": 5
}