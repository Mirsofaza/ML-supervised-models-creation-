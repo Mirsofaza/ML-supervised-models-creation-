{
 "cells": [
  {
   "cell_type": "markdown",
   "id": "-UUrr096ltox",
   "metadata": {
    "id": "-UUrr096ltox"
   },
   "source": [
    "## This is a notebook showing the example of estimating parameters for Categorical distribution. It includes\n",
    "*   How to generate data that follows categorical distribution\n",
    "*   How to estimate distribution parameters for each state by the frequentist approach\n",
    "*   How to estimate the distribution parameters by Bayesian approach\n",
    "\n",
    "Finally, you will compare the results among frequentist approach, Bayesian approach, and true value (Ground truth).\n"
   ]
  },
  {
   "cell_type": "markdown",
   "id": "IBOsGNlCo1fY",
   "metadata": {
    "id": "IBOsGNlCo1fY"
   },
   "source": [
    "# **Part 1: Generation of data following categorical distribution**"
   ]
  },
  {
   "cell_type": "code",
   "execution_count": 1,
   "id": "6e8073be",
   "metadata": {
    "colab": {
     "base_uri": "https://localhost:8080/"
    },
    "id": "6e8073be",
    "outputId": "e48c3bab-0d8b-4da5-abea-ab91ab27580a"
   },
   "outputs": [
    {
     "name": "stdout",
     "output_type": "stream",
     "text": [
      "Parameters Mu for Categorical Distribution are: [0.58546094 0.04158259 0.11165693 0.23015395 0.03114558]\n",
      "The data following categorical distribution are: \n",
      "[0 0 3 0 0 0 1 0 0 0 0 0 3 0 4 0 3 3 2 3 3 2 0 0 0 4 0 0 0 0 0 0 0 0 0 2 0\n",
      " 3 0 0 3 0 2 1 0 0 0 0 0 0]\n"
     ]
    }
   ],
   "source": [
    "import numpy as np\n",
    "import scipy.stats as stats\n",
    "\n",
    "# discrete random variable with K states\n",
    "# generate the test results as 50 binary random numbers  (x = 1: test positive, x=0: test negative)\n",
    "N = 50\n",
    "K = 5\n",
    "\n",
    "states = np.arange(K) # just ouput 0, 1, 2, 3, 4 for 5 states\n",
    "params_alpha = 0.5 *np.ones (K,) # Provide parameters alpha, 0.5, 0.5, 0.5, 0.5, 0.5\n",
    "# Use alpha to generate mu (probability that each state at state 1) by drawing a sample\n",
    "# from Dirichlet distribution\n",
    "# Note five mu's generated sum up to 1\n",
    "mu_probs  = np.random.dirichlet ( params_alpha)\n",
    "\n",
    "print('Parameters Mu for Categorical Distribution are:', mu_probs)\n",
    "#generate data following categorical distribution\n",
    "categoricaldist = stats.rv_discrete ( name = \" categoricaldist\", values = (states, mu_probs) )\n",
    "x = categoricaldist. rvs (size = N)\n",
    "print('The data following categorical distribution are: ')\n",
    "print(x)"
   ]
  },
  {
   "cell_type": "markdown",
   "id": "5FLliLATpBz9",
   "metadata": {
    "id": "5FLliLATpBz9"
   },
   "source": [
    "Question: What do the data generated mean? Please fill out the information below after question mark\n",
    "\n",
    "For each data, the probability of the data in\n",
    "\n",
    "state 4 is ?\n",
    "\n",
    "State 3 is ?\n",
    "\n",
    "State 2 is ?\n",
    "\n",
    "State 1 is ?\n",
    "\n",
    "State 0 is ?"
   ]
  },
  {
   "cell_type": "markdown",
   "id": "D1XMkI1ppVbI",
   "metadata": {
    "id": "D1XMkI1ppVbI"
   },
   "source": [
    "# **Part 2: Frequentist approach to estimate parameter (Maximum Likelihood)**"
   ]
  },
  {
   "cell_type": "code",
   "execution_count": 2,
   "id": "61b5af06",
   "metadata": {
    "colab": {
     "base_uri": "https://localhost:8080/"
    },
    "id": "61b5af06",
    "outputId": "667f5790-9e27-4690-adeb-89d8aa300bf7"
   },
   "outputs": [
    {
     "name": "stdout",
     "output_type": "stream",
     "text": [
      "State: 0, MLE for Mu: 0.68\n",
      "State: 1, MLE for Mu: 0.04\n",
      "State: 2, MLE for Mu: 0.08\n",
      "State: 3, MLE for Mu: 0.16\n",
      "State: 4, MLE for Mu: 0.04\n"
     ]
    }
   ],
   "source": [
    "# Estimate the parameter of the categorical distribution from data x\n",
    "# The maxmimum likelhood estimate purely depends on the data\n",
    "# Report you MLE estimates of all the parameters involved in categorical distribution\n",
    "unique, mk = np.unique (x,return_counts = True) # Count the number of times x falls in each state\n",
    "\n",
    "# use formula in Slide 20 in Chapter_2_Inference\n",
    "MLE = mk/N\n",
    "#print('The MLE estimation for mu is:', MLE)\n",
    "\n",
    "for value, mle in zip(unique, MLE):\n",
    "    print(f\"State: {value}, MLE for Mu: {mle}\")"
   ]
  },
  {
   "cell_type": "markdown",
   "id": "kjkNN1W_ph8y",
   "metadata": {
    "id": "kjkNN1W_ph8y"
   },
   "source": [
    "# **Part 3: Bayesian approach to estimate model parameter**"
   ]
  },
  {
   "cell_type": "code",
   "execution_count": 3,
   "id": "2c476453",
   "metadata": {
    "id": "2c476453"
   },
   "outputs": [],
   "source": [
    "# Bayesian Estimate uses some prior knowledge on the positive rate\n",
    "# Report your MAP estimate for all parameters in the categorical distribution in this example\n",
    "from scipy.stats import dirichlet\n",
    "m = dict(zip(unique,mk))\n",
    "alpha = dict(zip(states,params_alpha)) # create a dictionary for m\n",
    "MAP_Numerator = {}\n",
    "# apply formula in (2.11)\n",
    "for k in states:\n",
    "    if k in m and m[k] != 0:\n",
    "        MAP_Numerator[k] = alpha [k]+ m[k] -1\n",
    "\n",
    "# Remember MAP = alpha + mk - 1\n",
    "MAP = {k: v/sum(MAP_Numerator.values ()) for k, v in MAP_Numerator.items()}\n",
    "\n"
   ]
  },
  {
   "cell_type": "markdown",
   "id": "WUgp3HwKppzS",
   "metadata": {
    "id": "WUgp3HwKppzS"
   },
   "source": [
    "# **Part 4: Comparison of all results and summarize.**"
   ]
  },
  {
   "cell_type": "code",
   "execution_count": null,
   "id": "992b87e6",
   "metadata": {
    "id": "992b87e6"
   },
   "outputs": [],
   "source": [
    "# Compare all the estimation and then answer: Which one is closer to the true value?\n",
    "print('The MLE estimator of Mu is:',\n",
    "print('The MAP estimator for Mu is:', )\n",
    "print('The true Mu is',  )"
   ]
  },
  {
   "cell_type": "markdown",
   "id": "coN439q03TJ6",
   "metadata": {
    "id": "coN439q03TJ6"
   },
   "source": [
    "# **Part 5: Count Data**\n",
    "Frequentist approach\n",
    "Bayesian approach"
   ]
  },
  {
   "cell_type": "code",
   "execution_count": null,
   "id": "irxSazWr3ZTd",
   "metadata": {
    "id": "irxSazWr3ZTd"
   },
   "outputs": [],
   "source": [
    "counts = np. bincount (x, minlength )\n",
    "mu_MLE =\n",
    "print(' MLE of mu= '+np.array2string(mu_MLE, precision=4))\n",
    "\n",
    "# Bayesian approach\n",
    "# Assume a flat prior for alpha in Dirichlet distribution\n",
    "alpha =\n",
    "# Formula on Slide 30\n",
    "mu_MAP =\n",
    "# Set negative values to 0\n",
    "\n",
    "# Normalize the mu_MAP\n",
    "mu_MAP =\n",
    "print('MAP of mu= '+np.array2string(mu_MAP, precision=4))"
   ]
  }
 ],
 "metadata": {
  "colab": {
   "provenance": []
  },
  "kernelspec": {
   "display_name": "Python 3 (ipykernel)",
   "language": "python",
   "name": "python3"
  },
  "language_info": {
   "codemirror_mode": {
    "name": "ipython",
    "version": 3
   },
   "file_extension": ".py",
   "mimetype": "text/x-python",
   "name": "python",
   "nbconvert_exporter": "python",
   "pygments_lexer": "ipython3",
   "version": "3.9.13"
  }
 },
 "nbformat": 4,
 "nbformat_minor": 5
}
