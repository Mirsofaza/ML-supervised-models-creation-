{
  "cells": [
    {
      "cell_type": "markdown",
      "source": [
        "# **This example will demonstrate**\n",
        "1. How to generate data that follows bivariate normal (Gaussian) distribution and visualize their variation range.\n",
        "2. How to estimate parameters of Gaussian distribution (mean and variance-covariance) by frequentist approach\n",
        "3. How to esimtate parameters by Bayesian approach."
      ],
      "metadata": {
        "id": "fJSA5T2p2JyT"
      },
      "id": "fJSA5T2p2JyT"
    },
    {
      "cell_type": "markdown",
      "source": [
        "# **Part 1: Generating Normal Distribution Data.**\n",
        "This part aims to provide data for analysis in the next step."
      ],
      "metadata": {
        "id": "h7jqvUdP7I4S"
      },
      "id": "h7jqvUdP7I4S"
    },
    {
      "cell_type": "code",
      "execution_count": null,
      "id": "c7bbd87d",
      "metadata": {
        "scrolled": false,
        "id": "c7bbd87d"
      },
      "outputs": [],
      "source": [
        "# Importing the necessary modules\n",
        "import numpy as np\n",
        "import matplotlib.pyplot as plt\n",
        "#importing the multivariate normal distribution function from the stats module under SciPy library\n",
        "from scipy.stats import multivariate_normal\n",
        "#Import Ellipse class from patches moudle under matplotlib library\n",
        "from matplotlib.patches import Ellipse\n",
        "\n",
        "\n",
        "plt.style.use('seaborn-dark')\n",
        "plt.rcParams['figure.figsize']=14,6\n",
        "fig = plt.figure()\n",
        "\n",
        "# Initializing the random seed\n",
        "random_seed=1000\n",
        "\n",
        "# We will try three different covariances:\n",
        "cov_val = [-0.8, 0, 0.8]\n",
        "# case 0: -0.8: covariance is [[1 -0.8][-0.8 1]]\n",
        "# case 1: 0: covariance is [[1 0][0 1]]\n",
        "# case 2: 0.8: covariance is [[1 0.8][0.8 1]]\n",
        "\n",
        "\n",
        "# Setting mean of the distributionibutino\n",
        "# to be at (0,0)\n",
        "mu =\n",
        "\n",
        "# Storing density function values for\n",
        "# further analysis\n",
        "#pdf_list = []\n",
        "\n",
        "# Define a function to draw 95% confidence range for a bivariate Gaussian distribution with mean and covariance Sigma\n",
        "# The range will be labeled by color\n",
        "# This part involves multivariate statistics. You may ignore the math details here and just use the function\n",
        "def confidence_range(Sigma, mu, color):\n",
        "    v, U = np.linalg.eig(Sigma)\n",
        "    id = np.argsort(v)\n",
        "    angle = 180. / np.pi * np.arctan2(U[0, id[1]], U[1, id[1]])\n",
        "    e = Ellipse(mu, 2 * np.sqrt(5.991 * v[id[1]]), 2 * np.sqrt(5.991 * v[id[0]]), angle=angle)\n",
        "    e.set_alpha(0.5)\n",
        "    e.set_facecolor(color)\n",
        "    e.set_zorder(10);\n",
        "    ax.add_artist(e);\n",
        "\n",
        "# Generate bivariate Gaussian distributoin for case 0, 1, 2\n",
        "for case, val in enumerate(cov_val): # iterate for (case=0,val=-0.8), (case=1,val=0),(case=2,val=0.8)\n",
        "\n",
        "    # Initializing the covariance matrix\n",
        "    Sigma =\n",
        "\n",
        "    # Generating a Gaussian bivariate distribution\n",
        "    # with given mean and covariance matrix\n",
        "    distr =\n",
        "\n",
        "    # Create 1,2, 3 sub plots\n",
        "    ax = plt.subplot(1,3,case+1)\n",
        "    # Draw 100 samples from the multivariate Gaussian distribution defined above\n",
        "    data =\n",
        "    # Scatter plot the data, its dimension 1 vs. dimension 2\n",
        "    # c='k' selects black color, alpha selects transparency, lay scatter plots on top of of ellipse\n",
        "    ax.scatter(data[:, 0], data[:, 1], c='k', alpha=0.5, zorder=11);\n",
        "    confidence_range(Sigma, mu, 'gray')\n",
        "\n",
        "    rect = plt.Rectangle((0, 0), 1, 1, fc='gray', alpha=0.5)\n",
        "    ax.legend([rect], ['95% true credible region'], loc=2);\n",
        "    plt.xlabel(\"x1\")\n",
        "    plt.ylabel(\"x2\")\n",
        "    plt.title(f'Covariance between x1 and x2 = {cov_val[case]}')\n",
        "\n",
        "plt.tight_layout()\n",
        "plt.show()\n"
      ]
    },
    {
      "cell_type": "code",
      "execution_count": null,
      "id": "f1a5abba",
      "metadata": {
        "id": "f1a5abba"
      },
      "outputs": [],
      "source": [
        "# Let's focus on 0.8 to generate data\n",
        "val = 0.8\n",
        "Sigma =\n",
        "distr =\n",
        "\n",
        "N = 30\n",
        "x =\n",
        "\n",
        "# Now we generate the data x. Next, we will perform analysis on this data.\n",
        "# Equivalently speaking, the steps above are like loading data from an data sheet. We just generate data from scratch."
      ]
    },
    {
      "cell_type": "markdown",
      "source": [
        "# **Part 2: Frequentist approach**\n",
        "Given the data generated above, perform maximum likelihood method to obtain the distribution parameter as the final output."
      ],
      "metadata": {
        "id": "U5n6rg_n7b6q"
      },
      "id": "U5n6rg_n7b6q"
    },
    {
      "cell_type": "code",
      "execution_count": null,
      "id": "1311468e",
      "metadata": {
        "id": "1311468e"
      },
      "outputs": [],
      "source": [
        "# maximum likelhood estimates of mu and Sigma\n",
        "# MLE of mu is the sample mean of x - Equation (2.18)\n",
        "mu_hat =\n",
        "# MLE of Sigma is the sample covariance of x - Equation (2.19)- unbiased version on slide 34\n",
        "Sigma_hat =\n",
        "\n",
        "\n",
        "ax = plt.subplot(1,1,1)\n",
        "# plot the true confidence range\n",
        "\n",
        "\n",
        "# plot the estimated confidence range\n",
        "\n",
        "\n",
        "ax.scatter(x[:, 0], x[:, 1], c='k', alpha=0.5, zorder=11);\n",
        "rect = plt.Rectangle((0, 0), 1, 1, fc='blue', alpha=0.2)\n",
        "ax.legend([rect], ['95% fitted credible region'], loc=2);\n",
        "\n",
        "plt.xlabel(\"x1\")\n",
        "plt.ylabel(\"x2\")\n",
        "plt.xlim(-5, 5)\n",
        "plt.ylim(-5, 5)\n",
        "plt.title('Contour plot of the fitted distribution with data')\n",
        "\n",
        "plt.tight_layout()\n",
        "plt.show()"
      ]
    },
    {
      "cell_type": "markdown",
      "source": [
        "# **Part 3: Bayesian approach**\n",
        "Given the data x generated above, perform Bayesian method to obtain the distribution parameter as the final output."
      ],
      "metadata": {
        "id": "ND-wgjN27j5O"
      },
      "id": "ND-wgjN27j5O"
    },
    {
      "cell_type": "code",
      "execution_count": null,
      "id": "40ca4919",
      "metadata": {
        "id": "40ca4919"
      },
      "outputs": [],
      "source": [
        "# Bayesian estimates of mu and Sigma\n",
        "# MLE of mu is the sample mean of x - Equation (2.20)\n",
        "import numpy.linalg as la\n",
        "\n",
        "# First check the prior for mu, which is a multivariate normal N(mu_0, Sigma_0)\n",
        "mu_0 =\n",
        "Sigma_0 =\n",
        "\n",
        "# the posterior estimate of mu is given in the closed form as in Slide #37 of Chapter 2\n",
        "Sigma_0_inv =\n",
        "Sigma_inv =\n",
        "\n",
        "mu_MAP =\n",
        "\n",
        "\n",
        "# plot the underlying distribution data\n",
        "\n",
        "ax = plt.subplot(1,1,1)\n",
        "\n",
        "confidence_range(Sigma, mu, 'gray')\n",
        "confidence_range(Sigma_hat, mu_MAP,'blue')\n",
        "\n",
        "ax.scatter(x[:, 0], x[:, 1], c='k', alpha=0.5, zorder=11);\n",
        "\n",
        "rect = plt.Rectangle((0, 0), 1, 1, fc='blue', alpha=0.2)\n",
        "ax.legend([rect], ['95% fitted credible region'], loc=2);\n",
        "\n",
        "plt.xlabel(\"x1\")\n",
        "plt.ylabel(\"x2\")\n",
        "plt.xlim(-5, 5)\n",
        "plt.ylim(-5, 5)\n",
        "plt.title('Contour plot of the fitted distribution with data')\n",
        "\n",
        "plt.tight_layout()\n",
        "plt.show()\n"
      ]
    },
    {
      "cell_type": "code",
      "source": [
        "# Estimate the MAP for Sigma\n",
        "D =  # x has a shape of 30X2. It is a two-dimensional data with 30 observations\n",
        "Psi0 =  # Psi0 parameter for the inverse Wishart distribution\n",
        "nu0 = # nu0>1 according to Slide 47 (2.22)\n",
        "\n",
        "Psi1 =  # (2.23)\n",
        "nu1 =\n",
        "\n",
        "Sigma_MAP =\n",
        "print('Part (c). MAP of Sigma = '+np.array2string(...))"
      ],
      "metadata": {
        "id": "VYKzrelxQk7L"
      },
      "id": "VYKzrelxQk7L",
      "execution_count": null,
      "outputs": []
    },
    {
      "cell_type": "markdown",
      "source": [
        "# **Part 4: Caculation of conditional distribution**"
      ],
      "metadata": {
        "id": "Od-UVjHE746v"
      },
      "id": "Od-UVjHE746v"
    },
    {
      "cell_type": "code",
      "source": [
        "import numpy as np\n",
        "# Two variables (x1, x2) follow a bivariate normal distribution with mu and Sigma defined below:\n",
        "mu = np.array([5, 8])\n",
        "Sigma = np.array([[1.2, 0.9], [0.9, 1.6]])\n",
        "\n",
        "# Now we know x2 = 1\n",
        "x2\n",
        "\n",
        "# Question: Compute conditional distribution of x1|x2=1 ~ N (mu12, [[Sigma_11, Sigma_12][Sigma_21, Sigma_22]])\n",
        "mu_12 =\n",
        "Sigma_12 =\n",
        "print('Part (a). The conditional distribution has mean '+np.array2string(...))\n",
        "print('          and variance '+np.array2string(...))\n",
        "\n",
        "print('Part (b) The marginal distribution of x1 has mean '+np.array2string(...))\n",
        "print('         variance '+np.array2string(...))\n",
        "print('         The marginal distribution of x2 has mean '+np.array2string(...))\n",
        "print('         variance '+np.array2string(...))"
      ],
      "metadata": {
        "id": "7g9RrOn2iaRP"
      },
      "id": "7g9RrOn2iaRP",
      "execution_count": null,
      "outputs": []
    }
  ],
  "metadata": {
    "kernelspec": {
      "display_name": "Python 3 (ipykernel)",
      "language": "python",
      "name": "python3"
    },
    "language_info": {
      "codemirror_mode": {
        "name": "ipython",
        "version": 3
      },
      "file_extension": ".py",
      "mimetype": "text/x-python",
      "name": "python",
      "nbconvert_exporter": "python",
      "pygments_lexer": "ipython3",
      "version": "3.9.12"
    },
    "colab": {
      "provenance": []
    }
  },
  "nbformat": 4,
  "nbformat_minor": 5
}