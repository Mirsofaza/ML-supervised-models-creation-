{
  "cells": [
    {
      "cell_type": "markdown",
      "source": [
        "# **This example illustrates how ridge and lasso regression can help resolve the overfitting issue in regression analsis**"
      ],
      "metadata": {
        "id": "zFBpLj7LcOK4"
      },
      "id": "zFBpLj7LcOK4"
    },
    {
      "cell_type": "code",
      "execution_count": null,
      "id": "1ca413d2",
      "metadata": {
        "id": "1ca413d2"
      },
      "outputs": [],
      "source": [
        "# This part is the same as the previous exercise. Just generate the data with noise\n",
        "import numpy as np\n",
        "from scipy import linalg\n",
        "import matplotlib.pyplot as plt\n",
        "\n",
        "x = np.linspace(-4, 4, 100)\n",
        "y = 10 * np.sin(2*x)\n",
        "yn = y + np.random.normal(0, 5, size=y.shape)\n"
      ]
    },
    {
      "cell_type": "markdown",
      "source": [
        "# **Part 1: Let's generate an overfitting case by introducing many many knots in cubic spline**"
      ],
      "metadata": {
        "id": "MkkogSfacik7"
      },
      "id": "MkkogSfacik7"
    },
    {
      "cell_type": "code",
      "execution_count": null,
      "id": "950a7186",
      "metadata": {
        "id": "950a7186"
      },
      "outputs": [],
      "source": [
        "# working a spline regression (piecewise cubic)\n",
        "\n",
        "# polynomial degree = 3\n",
        "pfun = lambda x,degree: np.power((np.abs(x) + x)/2, degree).reshape(-1) # create {x+}^3\n",
        "degree = 3\n",
        "One =\n",
        "\n",
        "# create basis matrix following Equation (3.12), 80 knot locations uniformly over [-4, 4]\n",
        "knots =\n",
        "X =\n",
        "for k in knots:  # append (x-kj)+^3 knot after knot to the right of X\n",
        "  X =\n",
        "\n",
        "w =\n",
        "\n",
        "y_pred =\n",
        "\n",
        "# Plot the results\n",
        "plt.plot(x, y, 'b', label=\"$f(x;\\omega)$\")\n",
        "plt.plot(x, y_pred, 'r', label=\"$\\hat{f}(x;\\omega)$\")\n",
        "plt.plot(x, yn, 'k+', label=\"Noisy data\")\n",
        "plt.xlabel('x')\n",
        "plt.title('Cubic Spline Regression (80 knots)')\n",
        "plt.legend()\n",
        "plt.show()"
      ]
    },
    {
      "cell_type": "markdown",
      "source": [
        "# **Part 2: Perform Ridge regression to mitigate the overfitting issue**"
      ],
      "metadata": {
        "id": "u3dXJ1yfddH5"
      },
      "id": "u3dXJ1yfddH5"
    },
    {
      "cell_type": "code",
      "execution_count": null,
      "id": "d5834607",
      "metadata": {
        "id": "d5834607"
      },
      "outputs": [],
      "source": [
        "# Too noisy with too many knots. We do apply some shrikage approaches such as Ridge or Lasso to reduce the effects of less important knots\n",
        "# Load Ridge regression model from linear_model moudle under the sklearn library\n",
        "from sklearn.linear_model import Ridge\n",
        "\n",
        "# Ridge: Minimizes the objective function: ||y - Xw||^2_2 + alpha * ||w||^2_2\n",
        "# Create a ridge regression model object called clf\n",
        "clf =\n",
        "clf. #Train model clf, replace w = np.linalg.solve(X.T @ X, X.T @ yn)\n",
        "y_pred = clf.# call predict method (equivalent to Y=X@w) to make prediction of regression model\n",
        "\n",
        "# Plot the results\n",
        "# Question: Compare the results to the ground truth and see if overfitting issue is mitigated.\n",
        "plt.plot(x, y, 'b', label=\"$f(x;\\omega)$\")\n",
        "plt.plot(x, y_pred, 'r', label=\"$\\hat{f}(x;\\omega)$\")\n",
        "plt.plot(x, yn, 'k+', label=\"Noisy data\")\n",
        "plt.xlabel('x')\n",
        "plt.title('Cubic Spline Regression with Ridge Penalty (80 knots)')\n",
        "plt.legend()\n",
        "plt.show()\n"
      ]
    },
    {
      "cell_type": "markdown",
      "source": [
        "# **Part 3: Perform lasso regression to mitigate the overfitting issue**\n",
        "Most of coding procedures are the same as ridge regression. However, lasso regression involves more complex algorithms for optimization since it is not a differentiable function. Therefore, extra optimization criteria should be specified, such as optimization tolerance and maximum number of iterations for the optimization."
      ],
      "metadata": {
        "id": "t-e-BAX3dmmy"
      },
      "id": "t-e-BAX3dmmy"
    },
    {
      "cell_type": "code",
      "execution_count": null,
      "id": "3c2b46fb",
      "metadata": {
        "id": "3c2b46fb"
      },
      "outputs": [],
      "source": [
        "from sklearn.linear_model import Lasso\n",
        "\n",
        "# Lasso: Minimizes the objective function: (1 / (2 * n_samples)) * ||y - Xw||^2_2 + alpha * ||w||_1\n",
        "clf =\n",
        "#if you see a warning message, it means when the Lasso regression model doesn't reach an optimal solution after the specified maximum\n",
        "# number of iterations. Increase iterations and increase alpha can help remove the warning.\n",
        "\n",
        "# normalize data to Xn = (X-mu)/sigma before a model fit for a better numerical stabilization\n",
        "from sklearn.preprocessing import StandardScaler\n",
        "scaler = StandardScaler()\n",
        "scaler.fit(X)\n",
        "Xn = scaler.transform(X)\n",
        "\n",
        "# Fit normalized data\n",
        "clf.\n",
        "# Make prediction based on normalize data\n",
        "y_pred =\n",
        "\n",
        "# Plot the results\n",
        "# Question: Compare the results to the ground truth and see if overfitting issue is mitigated.\n",
        "plt.plot(x, y, 'b', label=\"$f(x;\\omega)$\")\n",
        "plt.plot(x, y_pred, 'r', label=\"$\\hat{f}(x;\\omega)$\")\n",
        "plt.plot(x, yn, 'k+', label=\"Noisy data\")\n",
        "plt.xlabel('x')\n",
        "plt.title('Cubic Spline Regression with Lasso Penalty (80 knots)')\n",
        "plt.legend()\n",
        "plt.show()\n"
      ]
    },
    {
      "cell_type": "code",
      "execution_count": null,
      "id": "6928fc83",
      "metadata": {
        "id": "6928fc83"
      },
      "outputs": [],
      "source": []
    }
  ],
  "metadata": {
    "kernelspec": {
      "display_name": "Python 3 (ipykernel)",
      "language": "python",
      "name": "python3"
    },
    "language_info": {
      "codemirror_mode": {
        "name": "ipython",
        "version": 3
      },
      "file_extension": ".py",
      "mimetype": "text/x-python",
      "name": "python",
      "nbconvert_exporter": "python",
      "pygments_lexer": "ipython3",
      "version": "3.9.12"
    },
    "colab": {
      "provenance": []
    }
  },
  "nbformat": 4,
  "nbformat_minor": 5
}