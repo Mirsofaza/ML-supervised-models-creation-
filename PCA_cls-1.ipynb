{
  "nbformat": 4,
  "nbformat_minor": 0,
  "metadata": {
    "colab": {
      "provenance": []
    },
    "kernelspec": {
      "name": "python3",
      "display_name": "Python 3"
    },
    "language_info": {
      "name": "python"
    }
  },
  "cells": [
    {
      "cell_type": "markdown",
      "source": [
        "This example demonstrates Principal component analysis\n",
        "1. Manual implement: data centering, find covariance, finde eigenvalues/eigenvectors, sort eigenvalues, plot the first two PC\n",
        "\n",
        "2. Use of PCA function\n",
        "3. Reconstruction of image or visualization for pc"
      ],
      "metadata": {
        "id": "koSPSkGcuuYY"
      }
    },
    {
      "cell_type": "markdown",
      "source": [
        "First generate data of digit numbers MNIST dataset"
      ],
      "metadata": {
        "id": "pBhX3ZoMvp36"
      }
    },
    {
      "cell_type": "code",
      "source": [
        "import numpy as np\n",
        "import matplotlib.pyplot as plt\n",
        "from sklearn.datasets import fetch_openml\n",
        "\n",
        "# Load data with parser set to 'auto' to avoid the warning\n",
        "mnist = fetch_openml('mnist_784', version=1, as_frame=False, parser='auto')\n",
        "X = mnist.data # (70000, 784)\n",
        "y = mnist.target.astype(np.int64)  # Using native Python int type (70000,)"
      ],
      "metadata": {
        "id": "-fvZrn3F6Hl8"
      },
      "execution_count": 1,
      "outputs": []
    },
    {
      "cell_type": "markdown",
      "source": [
        "Manual implementation of PCA"
      ],
      "metadata": {
        "id": "EofKisdcvvPT"
      }
    },
    {
      "cell_type": "code",
      "source": [
        "# Filter out the images for digit '3'\n",
        "X_3 = X[..] # X_3 (7141,784)\n",
        "\n",
        "# Center the data by subtracting the mean image from each image in the dataset\n",
        "mean_image = np. # average across all the 7141 images. axis specification is needed\n",
        "X_centered = X_3 -\n",
        "\n",
        "# Calculate covariance matrix\n",
        "cov_matrix = np.\n",
        "\n",
        "# Perform eigen decomposition\n",
        "eigenvalues, eigenvectors = np.  # Use eigh, which is better for symmetric matrices\n",
        "\n",
        "# Sort the eigenvalues and eigenvectors\n",
        "sorted_indices = np.argsort( # sort from the highest to the lowet (784,) eigenvalues\n",
        "eigenvectors = eigenvectors[ # sort the corresponding columns in eigenvectors (784,784)\n",
        "eigenvalues = eigenvalues[\n",
        "\n",
        "# Assuming eigenvalues are already sorted in descending order\n",
        "total_pc = 700 # maximum possibe:\n",
        "# Scree Plot\n",
        "plt.figure(figsize=(10, 5))\n",
        "plt.plot(, 'o-', linewidth=2, color='blue')  # Plotting only the first 7\n",
        "plt.title('Scree Plot')\n",
        "plt.xlabel('Principal Component')\n",
        "plt.ylabel('Eigenvalue')\n",
        "plt.grid(True)\n",
        "plt.show()\n",
        "\n",
        "# Pareto Plot\n",
        "cumulative_variance_explained = np./np.\n",
        "plt.figure(figsize=(10, 5))\n",
        "plt.plot(, 'o-', linewidth=2, color='blue')  # Plotting only the first seven\n",
        "plt.title('Pareto Plot of Eigenvalues')\n",
        "plt.xlabel('Number of Principal Components')\n",
        "plt.ylabel('Cumulative Proportion of Variance Explained')\n",
        "plt.grid(True)\n",
        "plt.show()\n",
        "\n",
        " # Question: Based on the two plots, how many principal components are sufficient to explain more than 80% of variance in the data?\n",
        " # You can use np.argmax"
      ],
      "metadata": {
        "id": "vgttpdCs80y2"
      },
      "execution_count": null,
      "outputs": []
    },
    {
      "cell_type": "markdown",
      "source": [
        "Reconstruction of images for PCs"
      ],
      "metadata": {
        "id": "Cw25oRKGvzD1"
      }
    },
    {
      "cell_type": "code",
      "source": [
        "# Function to reconstruct the image using the first k principal components\n",
        "# Check slides 14-15 in Chapter 12\n",
        "def reconstruct_image(image, eigenvectors, k):\n",
        "    # Center the data because PCA (including Kernel PCA) often assumes that the data is centered around the origin\n",
        "    image_centered = image - mean_image\n",
        "    # The centered image is projected onto the space spanned by the first k principal components (eigenvectors)\n",
        "    # The dot product between the eigenvectors and the centered image gives the coordinates (or scores) of the image in the principal component space\n",
        "    projections = np.dot(,) # image_centered (784,), eigenvectors (784=dim,784=pc), k = 1 ,2, 4, 8, or 16\n",
        "    # A back-projection from the principal component space to the original space\n",
        "    # It combines the principal components, each weighted by the image's coordinate (score) along that component to estimate the original image\n",
        "    reconstruction = np.dot(,)\n",
        "    return reconstruction +  # add back mean\n",
        "\n",
        "# Reconstruct the image using different numbers of PCs\n",
        "pcs = [1, 2, 4, 8, 16]\n",
        "# We'll use the first image of '3' for this example\n",
        "image_3 = X_3[0]\n",
        "fig, axes = plt.subplots(1, len(pcs) + 1, figsize=(15, 3))\n",
        "axes[0].imshow(.reshape(28, 28), cmap='gray')\n",
        "axes[0].set_title('Original Image')\n",
        "\n",
        "for i, pc in enumerate(pcs):\n",
        "    reconstruction = reconstruct_image(, eigenvectors, pc).reshape(28, 28)\n",
        "    axes[i + 1].imshow(, cmap='gray')\n",
        "    axes[i + 1].set_title(f'{pc} PCs')\n",
        "\n",
        "plt.show()"
      ],
      "metadata": {
        "id": "KemVHHWMcfHN"
      },
      "execution_count": null,
      "outputs": []
    },
    {
      "cell_type": "markdown",
      "source": [
        "Second, use PCA function"
      ],
      "metadata": {
        "id": "T54yBI-nv3Ab"
      }
    },
    {
      "cell_type": "code",
      "source": [
        "from sklearn.decomposition import PCA\n",
        "from matplotlib.ticker import PercentFormatter\n",
        "pca = PCA(\n",
        "pca. # PCA does not involve y, no labels\n",
        "\n",
        "ev = pca., #eigenvalues\n",
        "perc = ev/np.,\n",
        "\n",
        "comp_num = np.arange(total_pc)+1 #[1,2,3...8]\n",
        "plt.plot(, , 'o-', linewidth=2, color='blue')\n",
        "plt.title('Scree Plot')\n",
        "plt.xlabel('PC i')\n",
        "plt.ylabel('Eigenvalue, $\\lambda_i$')\n",
        "plt.show()\n",
        "\n",
        "fig, ax = plt.subplots()\n",
        "ax.bar(,, color=\"C0\")\n",
        "ax.plot(,, color=\"C1\", marker=\"D\", ms=7) #create cusum\n",
        "ax.set_ylim([0, 100])\n",
        "plt.ylabel('Percent variance explained')\n",
        "plt.xlabel('PC i')\n",
        "ax.yaxis.set_major_formatter(PercentFormatter())\n",
        "ax.set_title('Pareto Plot');"
      ],
      "metadata": {
        "id": "0hI364rxNcdZ"
      },
      "execution_count": null,
      "outputs": []
    },
    {
      "cell_type": "markdown",
      "source": [
        "Reconstruction of images for PCs"
      ],
      "metadata": {
        "id": "ll_15JENwDdj"
      }
    },
    {
      "cell_type": "code",
      "source": [
        "# Reconstruct the image using the first few principal components\n",
        "\n",
        "def reconstruct_image_sklearn(n_components, pca, original_img):\n",
        "    # Take the PCA components\n",
        "    components = pca.\n",
        "    # Subtract the mean from the original image\n",
        "    original_img_centered = original_img -\n",
        "    # Project the centered image onto the principal component space\n",
        "    projection = np.dot(,)\n",
        "    # Reconstruct the image from the projection\n",
        "    reconstruction = np.dot(,)\n",
        "    return reconstruction +\n",
        "\n",
        "\n",
        "# Reconstruct the image using 1, 2, 4, 8, and 16 PCs for demonstration\n",
        "reconstructed_images = []\n",
        "components_to_show = [1, 2, 4, 8, 16]\n",
        "for n_components in components_to_show:\n",
        "    reconstructed_img = reconstruct_image_sklearn(\n",
        "    reconstructed_images.append(\n",
        "\n",
        "# Display original and reconstructed images\n",
        "fig, axes = plt.subplots(1, len(components_to_show) + 1, figsize=(15, 3))\n",
        "axes[0].imshow(.reshape(28, 28), cmap='gray')\n",
        "axes[0].set_title('Original Image')\n",
        "for i, (reconstructed_img, n_components) in enumerate(zip(reconstructed_images, components_to_show)):\n",
        "    axes[i + 1].imshow(.reshape(28, 28), cmap='gray')\n",
        "    axes[i + 1].set_title(f'{n_components} PCs')\n",
        "\n",
        "plt.show()"
      ],
      "metadata": {
        "id": "byfI3kygb9B-"
      },
      "execution_count": null,
      "outputs": []
    }
  ]
}